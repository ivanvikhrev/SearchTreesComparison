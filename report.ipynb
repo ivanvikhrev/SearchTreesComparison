{
 "cells": [
  {
   "cell_type": "markdown",
   "metadata": {},
   "source": [
    "# Сравнение поисковых деревьев\n",
    "### Выполнили Вихрев И., Репин В. гр 382006-3м"
   ]
  },
  {
   "cell_type": "code",
   "execution_count": 25,
   "metadata": {},
   "outputs": [],
   "source": [
    "import sys\n",
    "from pathlib import Path\n",
    "import time\n",
    "import timeit\n",
    "import pandas as pd\n",
    "sys.path.append(str(Path.cwd().resolve()/'python_bindings'))\n",
    "import trees\n",
    "st_time = []\n",
    "avl_time = []\n",
    "treap_time = []\n",
    "rbtree_time = []\n",
    "sortarr_time = []"
   ]
  },
  {
   "cell_type": "code",
   "execution_count": 26,
   "metadata": {},
   "outputs": [
    {
     "data": {
      "text/plain": [
       "['AVLTreeInt',\n",
       " 'AVLTreeString',\n",
       " 'RBTreeInt',\n",
       " 'RBTreeString',\n",
       " 'SortedArrInt',\n",
       " 'SortedArrString',\n",
       " 'SplayTreeInt',\n",
       " 'SplayTreeString',\n",
       " 'TreapInt',\n",
       " 'TreapString',\n",
       " '__builtins__',\n",
       " '__doc__',\n",
       " '__file__',\n",
       " '__loader__',\n",
       " '__name__',\n",
       " '__package__',\n",
       " '__spec__',\n",
       " '__test__']"
      ]
     },
     "execution_count": 26,
     "metadata": {},
     "output_type": "execute_result"
    }
   ],
   "source": [
    "dir(trees)"
   ]
  },
  {
   "cell_type": "code",
   "execution_count": 27,
   "metadata": {},
   "outputs": [],
   "source": [
    "import random\n",
    "unique_num_set = random.sample(range(1, 10**8), 10**6)"
   ]
  },
  {
   "cell_type": "code",
   "execution_count": 28,
   "metadata": {},
   "outputs": [],
   "source": [
    "st = trees.SplayTreeInt()"
   ]
  },
  {
   "cell_type": "code",
   "execution_count": 29,
   "metadata": {},
   "outputs": [],
   "source": [
    "for i in unique_num_set:\n",
    "    start = time.time_ns()\n",
    "    st.insert(i)\n",
    "    end = time.time_ns()\n",
    "    st_time.append(end-start)"
   ]
  },
  {
   "cell_type": "code",
   "execution_count": 30,
   "metadata": {},
   "outputs": [],
   "source": [
    "avl = trees.AVLTreeInt()"
   ]
  },
  {
   "cell_type": "code",
   "execution_count": 31,
   "metadata": {},
   "outputs": [],
   "source": [
    "for i in unique_num_set:\n",
    "    start = time.time_ns()\n",
    "    avl.insert(i)\n",
    "    end = time.time_ns()\n",
    "    avl_time.append(end-start)"
   ]
  },
  {
   "cell_type": "code",
   "execution_count": 32,
   "metadata": {},
   "outputs": [],
   "source": [
    "treap = trees.TreapInt()\n",
    "for i in unique_num_set:\n",
    "    start = time.time_ns()\n",
    "    treap.insert(i)\n",
    "    end = time.time_ns()\n",
    "    treap_time.append(end-start)"
   ]
  },
  {
   "cell_type": "code",
   "execution_count": 33,
   "metadata": {},
   "outputs": [],
   "source": [
    "rbtree = trees.RBTreeInt()\n",
    "for i in unique_num_set:\n",
    "    start = time.time_ns()\n",
    "    rbtree.insert(i)\n",
    "    end = time.time_ns()\n",
    "    rbtree_time.append(end-start)"
   ]
  },
  {
   "cell_type": "code",
   "execution_count": 34,
   "metadata": {},
   "outputs": [],
   "source": [
    "sortarr = trees.SortedArrInt()\n",
    "for i in unique_num_set:\n",
    "    start = time.time_ns()\n",
    "    sortarr.insert(i)\n",
    "    end = time.time_ns()\n",
    "    sortarr_time.append(end-start)"
   ]
  },
  {
   "cell_type": "code",
   "execution_count": 35,
   "metadata": {},
   "outputs": [],
   "source": [
    "import seaborn as sns\n",
    "import matplotlib.pyplot as plt\n",
    "sns.set(style = 'whitegrid', rc={'figure.figsize':(20, 10)})"
   ]
  },
  {
   "cell_type": "markdown",
   "metadata": {},
   "source": [
    "## splay tree"
   ]
  },
  {
   "cell_type": "code",
   "execution_count": null,
   "metadata": {},
   "outputs": [],
   "source": [
    "num = range(0, len(st_time))\n",
    "plt.scatter(num, st_time)"
   ]
  },
  {
   "cell_type": "markdown",
   "metadata": {},
   "source": [
    "## avl tree"
   ]
  },
  {
   "cell_type": "code",
   "execution_count": null,
   "metadata": {},
   "outputs": [],
   "source": [
    "plt.scatter(num, avl_time)"
   ]
  },
  {
   "cell_type": "markdown",
   "metadata": {},
   "source": [
    "## treap"
   ]
  },
  {
   "cell_type": "code",
   "execution_count": null,
   "metadata": {},
   "outputs": [],
   "source": [
    "plt.scatter(num, treap_time)"
   ]
  },
  {
   "cell_type": "markdown",
   "metadata": {},
   "source": [
    "## red-black tree"
   ]
  },
  {
   "cell_type": "code",
   "execution_count": null,
   "metadata": {},
   "outputs": [],
   "source": [
    "plt.scatter(num, rbtree_time)"
   ]
  },
  {
   "cell_type": "markdown",
   "metadata": {},
   "source": [
    "## sorted arr"
   ]
  },
  {
   "cell_type": "code",
   "execution_count": null,
   "metadata": {},
   "outputs": [],
   "source": [
    "plt.scatter(num, sortarr_time)"
   ]
  },
  {
   "cell_type": "code",
   "execution_count": null,
   "metadata": {},
   "outputs": [],
   "source": []
  }
 ],
 "metadata": {
  "kernelspec": {
   "display_name": "Python 3",
   "language": "python",
   "name": "python3"
  },
  "language_info": {
   "codemirror_mode": {
    "name": "ipython",
    "version": 3
   },
   "file_extension": ".py",
   "mimetype": "text/x-python",
   "name": "python",
   "nbconvert_exporter": "python",
   "pygments_lexer": "ipython3",
   "version": "3.7.8"
  }
 },
 "nbformat": 4,
 "nbformat_minor": 2
}
